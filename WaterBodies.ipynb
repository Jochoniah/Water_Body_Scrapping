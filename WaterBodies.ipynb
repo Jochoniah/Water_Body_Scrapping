{
 "cells": [
  {
   "cell_type": "markdown",
   "metadata": {},
   "source": [
    "Water bodies images scrapping using mechanicalsoup\n"
   ]
  },
  {
   "cell_type": "code",
   "execution_count": 26,
   "metadata": {},
   "outputs": [
    {
     "name": "stdout",
     "output_type": "stream",
     "text": [
      "https://www.google.com/imghp?hl=EN\n"
     ]
    }
   ],
   "source": [
    "# Import the required library\n",
    "import mechanicalsoup\n",
    "browser = mechanicalsoup.StatefulBrowser()\n",
    "\n",
    "# Our url should only target google images url since we are scrapping images of water bodies from it\n",
    "url = \"https://www.google.com/imghp?hl=EN\"\n",
    "\n",
    "browser.open(url)\n",
    "print(browser.get_url())"
   ]
  },
  {
   "cell_type": "code",
   "execution_count": 27,
   "metadata": {},
   "outputs": [
    {
     "data": {
      "text/plain": [
       "<!DOCTYPE html>\n",
       "<html itemscope=\"\" itemtype=\"http://schema.org/WebPage\" lang=\"en-KE\"><head><meta content=\"Google Images. The most comprehensive image search on the web.\" name=\"description\"/><meta content=\"text/html; charset=utf-8\" http-equiv=\"Content-Type\"/><meta content=\"/images/branding/googleg/1x/googleg_standard_color_128dp.png\" itemprop=\"image\"/><title>Google Images</title><script nonce=\"VMV+5ow27hRW0/r5eV90aA==\">(function(){window.google={kEI:'-bZDX4-EAruz0PEPmvut2Ak',kEXPI:'0,202123,3,4,32,4,1151580,5663,731,223,755,4350,206,3204,10,1226,364,926,573,612,205,383,246,5,1354,648,370,2612,470,49,265,3,66,401,584,90,40,15,137,736,158,87,453,735,244,1119603,1197704,530,302728,26305,13677,4855,32692,15247,867,17444,11240,9188,8384,4859,1361,9290,3028,4740,2648,8385,1808,4020,978,7931,5297,2054,920,873,1217,2975,6430,7432,7095,235,4284,1395,1381,919,2277,8,85,2711,1593,1279,2212,239,291,149,1103,840,517,1522,157,4101,312,1136,3,2669,2023,1920,377,1947,2229,93,328,1284,16,2927,2247,1812,508,1279,3227,2845,8,5598,469,6286,4455,641,2450,3684,1742,4929,108,1456,1951,908,2,941,714,1900,2397,7470,2177,1098,3,346,230,970,44,1,820,2550,2074,149,189,3312,2489,2252,3989,1744,4,1528,2304,1236,883,262,327,78,1860,1816,279,298,94,1697,52,75,4,135,1202,961,464,459,117,1438,4067,1035,1230,86,3,2283,997,1426,69,1320,1095,200,2070,741,500,1253,690,1542,426,416,75,54,164,1464,1730,152,187,321,198,25,889,252,310,504,185,119,258,10,43,31,1303,529,230,775,932,224,151,504,165,207,287,23,1546,211,340,310,225,115,52,535,249,991,54,945,256,255,1211,9,615,379,346,160,344,12,434,2,295,712,6,516,116,529,138,957,475,2,95,1480,64,2841,499,373,356,263,1780,90,954,137,1,411,332,237,5769729,8801916,549,333,444,1,2,80,1,900,896,1,9,2,2551,1,748,141,59,736,563,1,4265,1,1,2,1017,9,305,3299,248,548,46,60,62,1,12,4,1,4,69,3501390,20458660,52,2704778',kBL:'-bmB'};google.sn='imghp';google.kHL='en-KE';})();(function(){google.lc=[];google.li=0;google.getEI=function(a){for(var c;a&&(!a.getAttribute||!(c=a.getAttribute(\"eid\")));)a=a.parentNode;return c||google.kEI};google.getLEI=function(a){for(var c=null;a&&(!a.getAttribute||!(c=a.getAttribute(\"leid\")));)a=a.parentNode;return c};google.ml=function(){return null};google.time=function(){return Date.now()};google.log=function(a,c,b,d,g){if(b=google.logUrl(a,c,b,d,g)){a=new Image;var e=google.lc,f=google.li;e[f]=a;a.onerror=a.onload=a.onabort=function(){delete e[f]};google.vel&&google.vel.lu&&google.vel.lu(b);a.src=b;google.li=f+1}};google.logUrl=function(a,c,b,d,g){var e=\"\",f=google.ls||\"\";b||-1!=c.search(\"&ei=\")||(e=\"&ei=\"+google.getEI(d),-1==c.search(\"&lei=\")&&(d=google.getLEI(d))&&(e+=\"&lei=\"+d));d=\"\";!b&&google.cshid&&-1==c.search(\"&cshid=\")&&\"slh\"!=a&&(d=\"&cshid=\"+google.cshid);b=b||\"/\"+(g||\"gen_204\")+\"?atyp=i&ct=\"+a+\"&cad=\"+c+e+f+\"&zx=\"+google.time()+d;/^http:/i.test(b)&&\"https:\"==window.location.protocol&&(google.ml(Error(\"a\"),!1,{src:b,glmm:1}),b=\"\");return b};}).call(this);(function(){google.y={};google.x=function(a,b){if(a)var c=a.id;else{do c=Math.random();while(google.y[c])}google.y[c]=[a,b];return!1};google.lm=[];google.plm=function(a){google.lm.push.apply(google.lm,a)};google.lq=[];google.load=function(a,b,c){google.lq.push([[a],b,c])};google.loadAll=function(a,b){google.lq.push([a,b])};}).call(this);google.f={};(function(){\n",
       "document.documentElement.addEventListener(\"submit\",function(b){var a;if(a=b.target){var c=a.getAttribute(\"data-submitfalse\");a=\"1\"==c||\"q\"==c&&!a.elements.q.value?!0:!1}else a=!1;a&&(b.preventDefault(),b.stopPropagation())},!0);document.documentElement.addEventListener(\"click\",function(b){var a;a:{for(a=b.target;a&&a!=document.documentElement;a=a.parentElement)if(\"A\"==a.tagName){a=\"1\"==a.getAttribute(\"data-nohref\");break a}a=!1}a&&b.preventDefault()},!0);}).call(this);\n",
       "var a=window.location,b=a.href.indexOf(\"#\");if(0<=b){var c=a.href.substring(b+1);/(^|&)q=/.test(c)&&-1==c.indexOf(\"#\")&&a.replace(\"/search?\"+c.replace(/(^|&)fp=[^&]*/g,\"\")+\"&cad=h\")};</script><style>#gbar,#guser{font-size:13px;padding-top:1px !important;}#gbar{height:22px}#guser{padding-bottom:7px !important;text-align:right}.gbh,.gbd{border-top:1px solid #c9d7f1;font-size:1px}.gbh{height:0;position:absolute;top:24px;width:100%}@media all{.gb1{height:22px;margin-right:.5em;vertical-align:top}#gbar{float:left}}a.gb1,a.gb4{text-decoration:underline !important}a.gb1,a.gb4{color:#00c !important}.gbi .gb4{color:#dd8e27 !important}.gbf .gb4{color:#900 !important}\n",
       "</style><style>body,td,a,p,.h{font-family:arial,sans-serif}body{margin:0;overflow-y:scroll}#gog{padding:3px 8px 0}td{line-height:.8em}.gac_m td{line-height:17px}form{margin-bottom:20px}.h{color:#36c}.q{color:#00c}em{font-weight:bold;font-style:normal}.lst{height:25px;width:496px}.gsfi,.lst{font:18px arial,sans-serif}.gsfs{font:17px arial,sans-serif}.ds{display:inline-box;display:inline-block;margin:3px 0 4px;margin-left:4px}input{font-family:inherit}body{background:#fff;color:#000}a{color:#11c;text-decoration:none}a:hover,a:active{text-decoration:underline}.fl a{color:#36c}a:visited{color:#551a8b}.sblc{padding-top:5px}.sblc a{display:block;margin:2px 0;margin-left:13px;font-size:11px}.lsbb{background:#eee;border:solid 1px;border-color:#ccc #999 #999 #ccc;height:30px}.lsbb{display:block}#fll a{display:inline-block;margin:0 12px}.lsb{background:url(/images/nav_logo229.png) 0 -261px repeat-x;border:none;color:#000;cursor:pointer;height:30px;margin:0;outline:0;font:15px arial,sans-serif;vertical-align:top}.lsb:active{background:#ccc}.lst:focus{outline:none}.prms{color:#c00;font-size:13px}.sshppd{font-size:13px;margin:32px 0 26px}.sshpplo span{color:#c00}.sshpplt{margin:15px 0 30px}</style><script nonce=\"VMV+5ow27hRW0/r5eV90aA==\"></script></head><body bgcolor=\"#fff\"><script nonce=\"VMV+5ow27hRW0/r5eV90aA==\">(function(){var src='/images/nav_logo229.png';var iesg=false;document.body.onload = function(){window.n && window.n();if (document.images){new Image().src=src;}\n",
       "if (!iesg){document.f&&document.f.q.focus();document.gbqf&&document.gbqf.q.focus();}\n",
       "}\n",
       "})();</script><div id=\"mngb\"><div id=\"gbar\"><nobr><a class=\"gb1\" href=\"https://www.google.co.ke/webhp?tab=iw\">Search</a> <b class=\"gb1\">Images</b> <a class=\"gb1\" href=\"https://maps.google.co.ke/maps?hl=en&amp;tab=il\">Maps</a> <a class=\"gb1\" href=\"https://play.google.com/?hl=en&amp;tab=i8\">Play</a> <a class=\"gb1\" href=\"https://www.youtube.com/?gl=KE&amp;tab=i1\">YouTube</a> <a class=\"gb1\" href=\"https://news.google.com/?tab=in\">News</a> <a class=\"gb1\" href=\"https://mail.google.com/mail/?tab=im\">Gmail</a> <a class=\"gb1\" href=\"https://drive.google.com/?tab=io\">Drive</a> <a class=\"gb1\" href=\"https://www.google.co.ke/intl/en/about/products?tab=ih\" style=\"text-decoration:none\"><u>More</u> »</a></nobr></div><div id=\"guser\" width=\"100%\"><nobr><span class=\"gbi\" id=\"gbn\"></span><span class=\"gbf\" id=\"gbf\"></span><span id=\"gbe\"></span><a class=\"gb4\" href=\"http://www.google.co.ke/history/optout?hl=en\">Web History</a> | <a class=\"gb4\" href=\"/preferences?hl=en\">Settings</a> | <a class=\"gb4\" href=\"https://accounts.google.com/ServiceLogin?hl=en&amp;passive=true&amp;continue=https://www.google.com/imghp%3Fhl%3DEN&amp;ec=GAVAAg\" id=\"gb_70\" target=\"_top\">Sign in</a></nobr></div><div class=\"gbh\" style=\"left:0\"></div><div class=\"gbh\" style=\"right:0\"></div></div><center><br clear=\"all\" id=\"lgpd\"/><div id=\"lga\"><div style=\"padding:28px 0 3px\"><div align=\"left\" id=\"hplogo\" style=\"height:110px;width:276px;background:url(/intl/en_ALL/images/branding/googlelogo/1x/googlelogo_white_background_color_272x92dp.png) no-repeat\" title=\"Google Images\"><div nowrap=\"\" style=\"font-size:16px;font-weight:bold;position:relative;top:70px;color:#1370e5;right:115px;float:right\"><span>images</span></div></div></div><br/></div><form action=\"https://www.google.com/search\" name=\"f\"><table cellpadding=\"0\" cellspacing=\"0\"><tr valign=\"top\"><td width=\"25%\"> </td><td align=\"center\" nowrap=\"\"><input name=\"tbm\" type=\"hidden\" value=\"isch\"/><input name=\"ie\" type=\"hidden\" value=\"ISO-8859-1\"/><input name=\"hl\" type=\"hidden\" value=\"en-KE\"/><input name=\"source\" type=\"hidden\" value=\"hp\"/><input name=\"biw\" type=\"hidden\"/><input name=\"bih\" type=\"hidden\"/><div class=\"ds\" style=\"height:32px;margin:4px 0\"><input autocomplete=\"off\" class=\"lst\" maxlength=\"2048\" name=\"q\" size=\"57\" style=\"margin:0;padding:5px 8px 0 6px;vertical-align:top;color:#000\" title=\"Search Images\" value=\"\"/></div> <span class=\"ds\"><span class=\"lsbb\"><input class=\"lsb\" name=\"btnG\" type=\"submit\" value=\"Search Images\"/></span></span></td><td align=\"left\" class=\"fl sblc\" nowrap=\"\" valign=\"middle\" width=\"25%\"><a href=\"/advanced_image_search?hl=en-KE&amp;authuser=0\">Advanced Image Search</a></td></tr></table><input id=\"gbv\" name=\"gbv\" type=\"hidden\" value=\"1\"/><script nonce=\"VMV+5ow27hRW0/r5eV90aA==\">(function(){var a,b=\"1\";if(document&&document.getElementById)if(\"undefined\"!=typeof XMLHttpRequest)b=\"2\";else if(\"undefined\"!=typeof ActiveXObject){var c,d,e=[\"MSXML2.XMLHTTP.6.0\",\"MSXML2.XMLHTTP.3.0\",\"MSXML2.XMLHTTP\",\"Microsoft.XMLHTTP\"];for(c=0;d=e[c++];)try{new ActiveXObject(d),b=\"2\"}catch(h){}}a=b;if(\"2\"==a&&-1==location.search.indexOf(\"&gbv=2\")){var f=google.gbvu,g=document.getElementById(\"gbv\");g&&(g.value=a);f&&window.setTimeout(function(){location.href=f},0)};}).call(this);</script></form><div id=\"gac_scont\"></div><div style=\"font-size:83%;min-height:3.5em\"><br/><div id=\"prm\"><style>.szppmdbYutt__middle-slot-promo{font-size:small;margin-bottom:32px}.szppmdbYutt__middle-slot-promo a.ZIeIlb{display:inline-block;text-decoration:none}.szppmdbYutt__middle-slot-promo img{border:none;margin-right:5px;vertical-align:middle}</style><div class=\"szppmdbYutt__middle-slot-promo\" data-ved=\"0ahUKEwjP5MX177PrAhW7GTQIHZp9C5sQnIcBCAQ\"><a class=\"NKcBbd\" href=\"https://www.google.com/url?q=https://about.google/stories/clean-air-for-kampala/%3Futm_source%3DGoogle%26utm_medium%3DHPP%26utm_campaign%3DEngineer_Story&amp;source=hpp&amp;id=19019758&amp;ct=3&amp;usg=AFQjCNELzKzOJb0K6uO7sQD914KHywgjDQ&amp;sa=X&amp;ved=0ahUKEwjP5MX177PrAhW7GTQIHZp9C5sQ8IcBCAU\" rel=\"nofollow\">Meet the research team using AI to reduce air pollution in Uganda</a></div></div></div><span id=\"footer\"><div style=\"font-size:10pt\"><div id=\"fll\" style=\"margin:19px auto;text-align:center\"><a href=\"/intl/en/ads/\">Advertising Programs</a><a href=\"http://www.google.co.ke/intl/en/services/\">Business Solutions</a><a href=\"/intl/en/about.html\">About Google</a></div></div><p style=\"font-size:8pt;color:#767676\">© 2020 - <a href=\"/intl/en/policies/privacy/\">Privacy</a> - <a href=\"/intl/en/policies/terms/\">Terms</a></p></span></center><script nonce=\"VMV+5ow27hRW0/r5eV90aA==\">(function(){window.google.cdo={height:0,width:0};(function(){var a=window.innerWidth,b=window.innerHeight;if(!a||!b){var c=window.document,d=\"CSS1Compat\"==c.compatMode?c.documentElement:c.body;a=d.clientWidth;b=d.clientHeight}a&&b&&(a!=google.cdo.width||b!=google.cdo.height)&&google.log(\"\",\"\",\"/client_204?&atyp=i&biw=\"+a+\"&bih=\"+b+\"&ei=\"+google.kEI);}).call(this);})();(function(){var u='/xjs/_/js/k\\x3dxjs.hp.en.JEBLbdHGMZ4.O/m\\x3dsb_he,d/am\\x3dAJ5gcw/d\\x3d1/rs\\x3dACT90oE5v_LRqw1GtjavBuThAC7uj1vhog';\n",
       "setTimeout(function(){var b=document;var a=\"SCRIPT\";\"application/xhtml+xml\"===b.contentType&&(a=a.toLowerCase());a=b.createElement(a);a.src=u;google.timers&&google.timers.load&&google.tick&&google.tick(\"load\",\"xjsls\");document.body.appendChild(a)},0);})();(function(){window.google.xjsu='/xjs/_/js/k\\x3dxjs.hp.en.JEBLbdHGMZ4.O/m\\x3dsb_he,d/am\\x3dAJ5gcw/d\\x3d1/rs\\x3dACT90oE5v_LRqw1GtjavBuThAC7uj1vhog';})();function _DumpException(e){throw e;}\n",
       "function _F_installCss(c){}\n",
       "(function(){google.jl={dw:false,em:[],emw:false,lls:'default',pdt:0,snet:true,uwp:true};})();(function(){var pmc='{\\x22d\\x22:{},\\x22sb_he\\x22:{\\x22agen\\x22:true,\\x22cgen\\x22:true,\\x22client\\x22:\\x22img\\x22,\\x22dh\\x22:true,\\x22dhqt\\x22:true,\\x22ds\\x22:\\x22i\\x22,\\x22ffql\\x22:\\x22en\\x22,\\x22host\\x22:\\x22google.com\\x22,\\x22isbh\\x22:28,\\x22jsonp\\x22:true,\\x22msgs\\x22:{\\x22cibl\\x22:\\x22Clear Search\\x22,\\x22dym\\x22:\\x22Did you mean:\\x22,\\x22lcky\\x22:\\x22I\\\\u0026#39;m Feeling Lucky\\x22,\\x22lml\\x22:\\x22Learn more\\x22,\\x22oskt\\x22:\\x22Input tools\\x22,\\x22psrc\\x22:\\x22This search was removed from your \\\\u003Ca href\\x3d\\\\\\x22/history\\\\\\x22\\\\u003EWeb History\\\\u003C/a\\\\u003E\\x22,\\x22psrl\\x22:\\x22Remove\\x22,\\x22sbit\\x22:\\x22Search by image\\x22,\\x22srch\\x22:\\x22Google Search\\x22},\\x22ovr\\x22:{},\\x22pq\\x22:\\x22\\x22,\\x22sbpl\\x22:16,\\x22sbpr\\x22:16,\\x22scd\\x22:10,\\x22stok\\x22:\\x22ruoGiQsmMCDhIY-HWgOlZWLXj-A\\x22,\\x22uhde\\x22:false}}';google.pmc=JSON.parse(pmc);})();</script> </body></html>"
      ]
     },
     "execution_count": 27,
     "metadata": {},
     "output_type": "execute_result"
    }
   ],
   "source": [
    "# Lets confirm the html of the current url\n",
    "browser.get_current_page()"
   ]
  },
  {
   "cell_type": "code",
   "execution_count": 28,
   "metadata": {},
   "outputs": [
    {
     "name": "stdout",
     "output_type": "stream",
     "text": [
      "<input name=\"tbm\" type=\"hidden\" value=\"isch\"/>\n",
      "<input name=\"ie\" type=\"hidden\" value=\"ISO-8859-1\"/>\n",
      "<input name=\"hl\" type=\"hidden\" value=\"en-KE\"/>\n",
      "<input name=\"source\" type=\"hidden\" value=\"hp\"/>\n",
      "<input name=\"biw\" type=\"hidden\"/>\n",
      "<input name=\"bih\" type=\"hidden\"/>\n",
      "<input autocomplete=\"off\" class=\"lst\" maxlength=\"2048\" name=\"q\" size=\"57\" style=\"margin:0;padding:5px 8px 0 6px;vertical-align:top;color:#000\" title=\"Search Images\" value=\"\"/>\n",
      "<input class=\"lsb\" name=\"btnG\" type=\"submit\" value=\"Search Images\"/>\n",
      "<input id=\"gbv\" name=\"gbv\" type=\"hidden\" value=\"1\"/>\n"
     ]
    }
   ],
   "source": [
    "# target the search input\n",
    "browser.select_form()\n",
    "browser.get_current_form().print_summary()"
   ]
  },
  {
   "cell_type": "markdown",
   "metadata": {},
   "source": [
    "# search for our water bodies images using the keywords\n",
    "\n",
    "a. Small water bodies\n",
    "\n",
    "b. large water bodies\n",
    "\n",
    "c. vegetated\n",
    "\n",
    "d. Non-vegetated\n",
    "\n",
    "e. Natural water bodies\n",
    "\n",
    "f. Artificial water bodies\n",
    "\n",
    "g. Mosquito breeding sites\n"
   ]
  },
  {
   "cell_type": "code",
   "execution_count": 29,
   "metadata": {},
   "outputs": [
    {
     "name": "stdout",
     "output_type": "stream",
     "text": [
      "new url: https://www.google.com/search?tbm=isch&ie=ISO-8859-1&hl=en-KE&source=hp&biw=&bih=&q=Small+water&btnG=Search+Images&gbv=1\n",
      "my results:\n",
      " <!DOCTYPE html PUBLIC \"-//WAPFORUM//DTD XHTML Mobile 1.0//EN\" \"http://www.wapforum.org/DTD/xhtml-mobile10.dtd\"><html xmlns=\"http://www.w3.org/1999/xhtml\" lang=\"en-KE\"><head><meta content=\"application/xhtml+xml; charset=UTF-8\" http-equiv=\"Content-Type\"/><meta content=\"no-cache\" name=\"Cache-Control\"/><title>Small water - Google Search</title><style>a{text-decoration:none;color:inherit}a:hover{text-decoration:underline}a img{border:0}body{font-family:Roboto,Helvetica,Arial,sans-serif;padding:8px;ma\n"
     ]
    }
   ],
   "source": [
    "# search for a keyword\n",
    "water_keyword = \"Small water\"\n",
    "browser[\"q\"] = water_keyword\n",
    "\n",
    "# call launch browser to scroll for images\n",
    "browser.launch_browser()\n",
    "results = browser.submit_selected()\n",
    "\n",
    "print('new url:', browser.get_url())\n",
    "print('my results:\\n', results.text[:500])"
   ]
  },
  {
   "cell_type": "code",
   "execution_count": 16,
   "metadata": {},
   "outputs": [
    {
     "data": {
      "text/plain": [
       "['/images/branding/searchlogo/1x/googlelogo_desk_heirloom_color_150x55dp.gif',\n",
       " 'https://encrypted-tbn0.gstatic.com/images?q=tbn:ANd9GcQru3Krf4FoHHj7CrMBF5_M9wpPkXr0xd4mJb9QFVrCvL9DZJbDiXoheZAQPK0&s',\n",
       " 'https://encrypted-tbn0.gstatic.com/images?q=tbn:ANd9GcTmRl9wvEXNIwBVCM51RJI0XVFNYPJdRN713xKqf1it7uyzJnRwMGDFa8UfOA&s',\n",
       " 'https://encrypted-tbn0.gstatic.com/images?q=tbn:ANd9GcQJ51nNe5NfAhT8YxPTSq5QW6wtWOycXCVy7yeK-T5eCuxE-ZKSqPbc2bAVizk&s',\n",
       " 'https://encrypted-tbn0.gstatic.com/images?q=tbn:ANd9GcSAT4CF-2YA04bb5VEhjKjhTHdgXejxeB7O2baQqCcPHpJTt3tPx8a543BPPcM&s',\n",
       " 'https://encrypted-tbn0.gstatic.com/images?q=tbn:ANd9GcT4O55DWw_3BGMRpsv0D9zwjpSV12NpA6OhmXpJJxAaK6GlYWNt49b742vvs9A&s',\n",
       " 'https://encrypted-tbn0.gstatic.com/images?q=tbn:ANd9GcReYEdTWQFS5444WLzd_g8JmZhgYKQgJ_qvUXtOQBaSzzqRSAcNFCg1wQLUeEo&s',\n",
       " 'https://encrypted-tbn0.gstatic.com/images?q=tbn:ANd9GcShowXWCoHOZ9qEqW3pWEWKh_dpkUsrgGC_yxwxh7SogoBoejgzkjoUosx1AEQ&s',\n",
       " 'https://encrypted-tbn0.gstatic.com/images?q=tbn:ANd9GcQZF3hrKxTc3FM7Oo_pOlfqBWzYhjugKdMtXAGQJZLIn40nbHnV6V8Ok7k2ZTs&s',\n",
       " 'https://encrypted-tbn0.gstatic.com/images?q=tbn:ANd9GcTF6wETAneqzofe2y4dbJEHseuLyb36DBWXUJX_g-RzCW_Q_oBupFzGoSUpT-o&s',\n",
       " 'https://encrypted-tbn0.gstatic.com/images?q=tbn:ANd9GcQkFPAWT4bRsN9nFk4dPFMuXvgub40xo00PQpPMTBFjIYJoyzqMGYE8K-GlLzI&s',\n",
       " 'https://encrypted-tbn0.gstatic.com/images?q=tbn:ANd9GcRS_ClggbEDpzp8LUkdLsSKJ0k_fKHfOlBfC_D3LRzfbdIfF5HBLyGh38RRrw&s',\n",
       " 'https://encrypted-tbn0.gstatic.com/images?q=tbn:ANd9GcRa_TtAmdDgP3YRSbZ8Yhpf52J6j1DHL31RekqKj1hE0OjjRy6RhKeJgJHmlQ&s',\n",
       " 'https://encrypted-tbn0.gstatic.com/images?q=tbn:ANd9GcRis4Wo5GoHFPt5xeq_tqDFQaYK2p6542htm9lg7yW0as6HmKCRyBUnGSnfWQ&s',\n",
       " 'https://encrypted-tbn0.gstatic.com/images?q=tbn:ANd9GcTQVu8h53nWmGthed6i6xXvwUta8QOmDeHT7bTcYDoPEX7nM8WoJyg14j5bEqQ&s',\n",
       " 'https://encrypted-tbn0.gstatic.com/images?q=tbn:ANd9GcQ-PEA6zPmVEcj5uYR-Fl7u-Gay-gp5fne4bxXullV_8Y-THu2XReUNLkksag&s',\n",
       " 'https://encrypted-tbn0.gstatic.com/images?q=tbn:ANd9GcSfpm527BvNV_-xtoKwfLJsbEh_qMGYbGJ77omdIZuAz5SKWcDC84rUTyIFKg&s',\n",
       " 'https://encrypted-tbn0.gstatic.com/images?q=tbn:ANd9GcSkb_fmD0rNiE1tvjAKuVt87mfjG-tmEbiHoPRJ5s68dPuX3vz4yD6dBg446w&s',\n",
       " 'https://encrypted-tbn0.gstatic.com/images?q=tbn:ANd9GcSjlZgZPhIQ76PFAirkdmsaFxARu6GyeL2vtgLomgQL0MZY0keszUqYuvU0k0s&s',\n",
       " 'https://encrypted-tbn0.gstatic.com/images?q=tbn:ANd9GcTtZlfkKMH-ej8hySWj_ftvRNKaPsqvpqQVkDSLx5pnqDjqFqimWZxiwpXHtg&s',\n",
       " 'https://encrypted-tbn0.gstatic.com/images?q=tbn:ANd9GcTe5ZgFrGzOB4u_0FfMlLUGs5Km41u90T_3xnmnpOwsV5gFhEQoxV_EIs9i5Q&s']"
      ]
     },
     "execution_count": 16,
     "metadata": {},
     "output_type": "execute_result"
    }
   ],
   "source": [
    "# open new url\n",
    "new_url = browser.get_url()\n",
    "browser.open(new_url)\n",
    "\n",
    "# get html\n",
    "page = browser.get_current_page()\n",
    "all_images = page.find_all('img')\n",
    "\n",
    "# target the source attribute\n",
    "image_source = []\n",
    "for image in all_images:\n",
    "    image = image.get('src')\n",
    "    image_source.append(image)\n",
    "\n",
    "image_source"
   ]
  },
  {
   "cell_type": "code",
   "execution_count": 17,
   "metadata": {},
   "outputs": [
    {
     "data": {
      "text/plain": [
       "['https://encrypted-tbn0.gstatic.com/images?q=tbn:ANd9GcQru3Krf4FoHHj7CrMBF5_M9wpPkXr0xd4mJb9QFVrCvL9DZJbDiXoheZAQPK0&s',\n",
       " 'https://encrypted-tbn0.gstatic.com/images?q=tbn:ANd9GcTmRl9wvEXNIwBVCM51RJI0XVFNYPJdRN713xKqf1it7uyzJnRwMGDFa8UfOA&s',\n",
       " 'https://encrypted-tbn0.gstatic.com/images?q=tbn:ANd9GcQJ51nNe5NfAhT8YxPTSq5QW6wtWOycXCVy7yeK-T5eCuxE-ZKSqPbc2bAVizk&s',\n",
       " 'https://encrypted-tbn0.gstatic.com/images?q=tbn:ANd9GcSAT4CF-2YA04bb5VEhjKjhTHdgXejxeB7O2baQqCcPHpJTt3tPx8a543BPPcM&s',\n",
       " 'https://encrypted-tbn0.gstatic.com/images?q=tbn:ANd9GcT4O55DWw_3BGMRpsv0D9zwjpSV12NpA6OhmXpJJxAaK6GlYWNt49b742vvs9A&s',\n",
       " 'https://encrypted-tbn0.gstatic.com/images?q=tbn:ANd9GcReYEdTWQFS5444WLzd_g8JmZhgYKQgJ_qvUXtOQBaSzzqRSAcNFCg1wQLUeEo&s',\n",
       " 'https://encrypted-tbn0.gstatic.com/images?q=tbn:ANd9GcShowXWCoHOZ9qEqW3pWEWKh_dpkUsrgGC_yxwxh7SogoBoejgzkjoUosx1AEQ&s',\n",
       " 'https://encrypted-tbn0.gstatic.com/images?q=tbn:ANd9GcQZF3hrKxTc3FM7Oo_pOlfqBWzYhjugKdMtXAGQJZLIn40nbHnV6V8Ok7k2ZTs&s',\n",
       " 'https://encrypted-tbn0.gstatic.com/images?q=tbn:ANd9GcTF6wETAneqzofe2y4dbJEHseuLyb36DBWXUJX_g-RzCW_Q_oBupFzGoSUpT-o&s',\n",
       " 'https://encrypted-tbn0.gstatic.com/images?q=tbn:ANd9GcQkFPAWT4bRsN9nFk4dPFMuXvgub40xo00PQpPMTBFjIYJoyzqMGYE8K-GlLzI&s',\n",
       " 'https://encrypted-tbn0.gstatic.com/images?q=tbn:ANd9GcRS_ClggbEDpzp8LUkdLsSKJ0k_fKHfOlBfC_D3LRzfbdIfF5HBLyGh38RRrw&s',\n",
       " 'https://encrypted-tbn0.gstatic.com/images?q=tbn:ANd9GcRa_TtAmdDgP3YRSbZ8Yhpf52J6j1DHL31RekqKj1hE0OjjRy6RhKeJgJHmlQ&s',\n",
       " 'https://encrypted-tbn0.gstatic.com/images?q=tbn:ANd9GcRis4Wo5GoHFPt5xeq_tqDFQaYK2p6542htm9lg7yW0as6HmKCRyBUnGSnfWQ&s',\n",
       " 'https://encrypted-tbn0.gstatic.com/images?q=tbn:ANd9GcTQVu8h53nWmGthed6i6xXvwUta8QOmDeHT7bTcYDoPEX7nM8WoJyg14j5bEqQ&s',\n",
       " 'https://encrypted-tbn0.gstatic.com/images?q=tbn:ANd9GcQ-PEA6zPmVEcj5uYR-Fl7u-Gay-gp5fne4bxXullV_8Y-THu2XReUNLkksag&s',\n",
       " 'https://encrypted-tbn0.gstatic.com/images?q=tbn:ANd9GcSfpm527BvNV_-xtoKwfLJsbEh_qMGYbGJ77omdIZuAz5SKWcDC84rUTyIFKg&s',\n",
       " 'https://encrypted-tbn0.gstatic.com/images?q=tbn:ANd9GcSkb_fmD0rNiE1tvjAKuVt87mfjG-tmEbiHoPRJ5s68dPuX3vz4yD6dBg446w&s',\n",
       " 'https://encrypted-tbn0.gstatic.com/images?q=tbn:ANd9GcSjlZgZPhIQ76PFAirkdmsaFxARu6GyeL2vtgLomgQL0MZY0keszUqYuvU0k0s&s',\n",
       " 'https://encrypted-tbn0.gstatic.com/images?q=tbn:ANd9GcTtZlfkKMH-ej8hySWj_ftvRNKaPsqvpqQVkDSLx5pnqDjqFqimWZxiwpXHtg&s',\n",
       " 'https://encrypted-tbn0.gstatic.com/images?q=tbn:ANd9GcTe5ZgFrGzOB4u_0FfMlLUGs5Km41u90T_3xnmnpOwsV5gFhEQoxV_EIs9i5Q&s']"
      ]
     },
     "execution_count": 17,
     "metadata": {},
     "output_type": "execute_result"
    }
   ],
   "source": [
    "# get rid of all the unsecure and bad images\n",
    "image_source = [image for image in image_source if image.startswith('https')]\n",
    "image_source"
   ]
  },
  {
   "cell_type": "code",
   "execution_count": 19,
   "metadata": {},
   "outputs": [
    {
     "data": {
      "text/plain": [
       "'C:\\\\Users\\\\Muatha\\\\Water Body Scrapping\\\\Small water bodies'"
      ]
     },
     "execution_count": 19,
     "metadata": {},
     "output_type": "execute_result"
    }
   ],
   "source": [
    "# import more libraries for storage and saving purposes\n",
    "import os\n",
    "import wget\n",
    "\n",
    "path = os.getcwd()\n",
    "path = os.path.join(path, water_keyword + ' bodies')\n",
    "\n",
    "# create the small water bodies images directory\n",
    "os.mkdir(path)\n",
    "path"
   ]
  },
  {
   "cell_type": "code",
   "execution_count": 23,
   "metadata": {},
   "outputs": [
    {
     "name": "stdout",
     "output_type": "stream",
     "text": [
      "100% [............................................................] 4537 / 4537"
     ]
    }
   ],
   "source": [
    "# download images of the interested water bodies as save in the assigned directory\n",
    "# In this case, it will be small water bodies\n",
    "counter = 0\n",
    "for image in image_source:\n",
    "    save_as = os.path.join(path, water_keyword + str(counter) + '.jpg')\n",
    "    wget.download(image, save_as)\n",
    "    counter += 1"
   ]
  },
  {
   "cell_type": "code",
   "execution_count": null,
   "metadata": {},
   "outputs": [],
   "source": []
  }
 ],
 "metadata": {
  "kernelspec": {
   "display_name": "Python 3",
   "language": "python",
   "name": "python3"
  },
  "language_info": {
   "codemirror_mode": {
    "name": "ipython",
    "version": 3
   },
   "file_extension": ".py",
   "mimetype": "text/x-python",
   "name": "python",
   "nbconvert_exporter": "python",
   "pygments_lexer": "ipython3",
   "version": "3.8.5"
  }
 },
 "nbformat": 4,
 "nbformat_minor": 4
}
